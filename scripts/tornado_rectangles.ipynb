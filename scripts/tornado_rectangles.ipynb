{
 "cells": [
  {
   "cell_type": "code",
   "execution_count": 1,
   "id": "98c93f99-22b6-4cc4-b98c-350ae0c0d628",
   "metadata": {},
   "outputs": [],
   "source": [
    "import os\n",
    "import math\n",
    "import numpy as np\n",
    "import pandas as pd\n",
    "import xarray as xr\n",
    "import matplotlib.pyplot as plt\n",
    "from pyproj import Proj\n",
    "from shapely.geometry import LineString, Polygon  \n",
    "import geopandas as gpd\n"
   ]
  },
  {
   "cell_type": "code",
   "execution_count": 2,
   "id": "58606614-d9b0-4b56-87f5-2bdf0a054692",
   "metadata": {},
   "outputs": [
    {
     "name": "stdout",
     "output_type": "stream",
     "text": [
      "Index(['BEGIN_YEARMONTH', 'BEGIN_DAY', 'BEGIN_TIME', 'END_YEARMONTH',\n",
      "       'END_DAY', 'END_TIME', 'EPISODE_ID', 'EVENT_ID', 'STATE', 'STATE_FIPS',\n",
      "       'YEAR', 'MONTH_NAME', 'EVENT_TYPE', 'CZ_TYPE', 'CZ_FIPS', 'CZ_NAME',\n",
      "       'WFO', 'BEGIN_DATE_TIME', 'CZ_TIMEZONE', 'END_DATE_TIME',\n",
      "       'INJURIES_DIRECT', 'INJURIES_INDIRECT', 'DEATHS_DIRECT',\n",
      "       'DEATHS_INDIRECT', 'DAMAGE_PROPERTY', 'DAMAGE_CROPS', 'SOURCE',\n",
      "       'MAGNITUDE', 'MAGNITUDE_TYPE', 'FLOOD_CAUSE', 'CATEGORY', 'TOR_F_SCALE',\n",
      "       'tor length (miles)', 'tor width (feet)', 'TOR_OTHER_WFO',\n",
      "       'TOR_OTHER_CZ_STATE', 'TOR_OTHER_CZ_FIPS', 'TOR_OTHER_CZ_NAME',\n",
      "       'BEGIN_RANGE', 'BEGIN_AZIMUTH', 'BEGIN_LOCATION', 'END_RANGE',\n",
      "       'END_AZIMUTH', 'END_LOCATION', 'BEGIN_LAT', 'BEGIN_LON', 'END_LAT',\n",
      "       'END_LON', 'EPISODE_NARRATIVE', 'EVENT_NARRATIVE', 'DATA_SOURCE',\n",
      "       'begin_datetime_UTC', 'end_datetime_UTC', 'duration (minutes)',\n",
      "       'speed (mph)', 'mag'],\n",
      "      dtype='object')\n"
     ]
    },
    {
     "name": "stderr",
     "output_type": "stream",
     "text": [
      "/glade/work/ggantos/miniconda2/envs/holo_torch/lib/python3.6/site-packages/IPython/core/interactiveshell.py:2714: DtypeWarning: Columns (29) have mixed types.Specify dtype option on import or set low_memory=False.\n",
      "  interactivity=interactivity, compiler=compiler, result=result)\n"
     ]
    }
   ],
   "source": [
    "df = pd.read_csv('/glade/p/cisl/aiml/conv_risk_intel/ncei_tornado_tracks/1950-2019_ncei_tornadoes.csv')\n",
    "df.drop('Unnamed: 0', axis=1, inplace=True)\n",
    "print(df.columns)\n"
   ]
  },
  {
   "cell_type": "code",
   "execution_count": 9,
   "id": "342b1f06-d8cf-42c5-a8ad-4f2025b201bb",
   "metadata": {},
   "outputs": [
    {
     "data": {
      "text/plain": [
       "'/glade/p/cisl/aiml/conv_risk_intel/ncei_tornado_tracks/1950-2019_ncei_tornadoes.csv'"
      ]
     },
     "execution_count": 9,
     "metadata": {},
     "output_type": "execute_result"
    }
   ],
   "source": [
    "'/glade/p/cisl/aiml/conv_risk_intel/ncei_tornado_tracks/1950-2019_ncei_tornadoes.csv'"
   ]
  },
  {
   "cell_type": "code",
   "execution_count": 3,
   "id": "a533defa-2677-48eb-b43d-b504c59f487d",
   "metadata": {},
   "outputs": [
    {
     "data": {
      "text/plain": [
       "0       NaN\n",
       "1       NaN\n",
       "2       NaN\n",
       "3       NaN\n",
       "4       NaN\n",
       "         ..\n",
       "70274   NaN\n",
       "70275   NaN\n",
       "70276   NaN\n",
       "70277   NaN\n",
       "70278   NaN\n",
       "Name: EPISODE_ID, Length: 70279, dtype: float64"
      ]
     },
     "execution_count": 3,
     "metadata": {},
     "output_type": "execute_result"
    }
   ],
   "source": [
    "df['EPISODE_ID']"
   ]
  },
  {
   "cell_type": "code",
   "execution_count": 3,
   "id": "500125eb-4b23-4c1d-9229-e1cad48f92d0",
   "metadata": {},
   "outputs": [],
   "source": [
    "date = '20110612'\n",
    "hour = 0\n",
    "ds = xr.open_dataset(os.path.join(\"/glade/p/cisl/aiml/conv_risk_intel/rap_ncei_nc/\", date, f\"ruc2anl_130_{date}_{hour:02d}00_000.nc\"))\n"
   ]
  },
  {
   "cell_type": "code",
   "execution_count": 4,
   "id": "259c0ee7-483d-4e19-b15b-948674220ee9",
   "metadata": {},
   "outputs": [],
   "source": [
    "proj = Proj(proj='lcc', R=6371229, lat_0=25, lon_0=265, lat_1=25, lat_2=25)\n"
   ]
  },
  {
   "cell_type": "code",
   "execution_count": 5,
   "id": "5c6f39f4-ac50-4355-a414-56f0ca9fc253",
   "metadata": {},
   "outputs": [],
   "source": [
    "df[['BEGIN_LON_M', 'BEGIN_LAT_M']] = np.array(proj(list(df['BEGIN_LON']), list(df['BEGIN_LAT']))).T\n",
    "df[['END_LON_M', 'END_LAT_M']] = np.array(proj(list(df['END_LON']), list(df['END_LAT']))).T\n"
   ]
  },
  {
   "cell_type": "code",
   "execution_count": 6,
   "id": "a9957b96-cb88-4a04-aadd-10709a545b77",
   "metadata": {},
   "outputs": [
    {
     "data": {
      "text/plain": [
       "0       NaN\n",
       "1       NaN\n",
       "2       NaN\n",
       "3       NaN\n",
       "4       NaN\n",
       "         ..\n",
       "70274   NaN\n",
       "70275   NaN\n",
       "70276   NaN\n",
       "70277   NaN\n",
       "70278   NaN\n",
       "Name: EPISODE_ID, Length: 70279, dtype: float64"
      ]
     },
     "execution_count": 6,
     "metadata": {},
     "output_type": "execute_result"
    }
   ],
   "source": [
    "df['EPISODE_ID']"
   ]
  },
  {
   "cell_type": "code",
   "execution_count": 13,
   "id": "5284cb8d-310d-47f1-a8f6-1b4ae6e7e0b5",
   "metadata": {},
   "outputs": [
    {
     "name": "stdout",
     "output_type": "stream",
     "text": [
      "POLYGON ((330000.4955122719 1508716.813028557, 337858.9486516685 1516960.662183482, 337845.7113667906 1516973.280631606, 329987.258227394 1508729.431476681, 330000.4955122719 1508716.813028557))\n"
     ]
    }
   ],
   "source": [
    "line = LineString([lonlat_begin[1], lonlat_end[1]])\n",
    "left_hand_side = line.buffer(df['tor width (feet)'][1] * 0.3048)\n",
    "print(left_hand_side.minimum_rotated_rectangle)\n"
   ]
  },
  {
   "cell_type": "code",
   "execution_count": 55,
   "id": "b3bb255b-a7ce-44e1-8efb-32a841586e19",
   "metadata": {},
   "outputs": [
    {
     "data": {
      "text/plain": [
       "shapely.geometry.polygon.Polygon"
      ]
     },
     "execution_count": 55,
     "metadata": {},
     "output_type": "execute_result"
    }
   ],
   "source": [
    "type(left_hand_side)"
   ]
  },
  {
   "cell_type": "code",
   "execution_count": 56,
   "id": "eb312e90-43fc-4fd3-9ca7-eb0e1277f384",
   "metadata": {},
   "outputs": [
    {
     "data": {
      "text/plain": [
       "shapely.geometry.polygon.Polygon"
      ]
     },
     "execution_count": 56,
     "metadata": {},
     "output_type": "execute_result"
    }
   ],
   "source": [
    "type(left_hand_side.minimum_rotated_rectangle)"
   ]
  },
  {
   "cell_type": "code",
   "execution_count": 64,
   "id": "3b3ba93b-ad31-4e9b-b750-389acd9ccb71",
   "metadata": {},
   "outputs": [
    {
     "name": "stdout",
     "output_type": "stream",
     "text": [
      "array('d', [330000.4955122719, 337858.9486516685, 337845.7113667906, 329987.25822739396, 330000.4955122719])\n",
      "array('d', [1508716.8130285565, 1516960.6621834822, 1516973.2806316065, 1508729.4314766808, 1508716.8130285565])\n"
     ]
    }
   ],
   "source": [
    "x,y = left_hand_side.minimum_rotated_rectangle.exterior.coords.xy\n",
    "print(x)\n",
    "print(y)"
   ]
  },
  {
   "cell_type": "code",
   "execution_count": 63,
   "id": "b5b8ddeb-69c1-4d09-882d-ac922f8b467e",
   "metadata": {},
   "outputs": [
    {
     "name": "stdout",
     "output_type": "stream",
     "text": [
      "330000.1860938951 1508729.7408950576\n"
     ]
    }
   ],
   "source": [
    "print(df['BEGIN_LON_M'][1], df['BEGIN_LAT_M'][1])"
   ]
  },
  {
   "cell_type": "code",
   "execution_count": null,
   "id": "0ec43114-2c00-4fef-878b-20d2ae55df0c",
   "metadata": {},
   "outputs": [],
   "source": [
    "\n",
    "x, y = some_poly.exterior.coords.xy\n"
   ]
  },
  {
   "cell_type": "code",
   "execution_count": 71,
   "id": "025e29a0-2195-4844-a802-25e563d817c5",
   "metadata": {},
   "outputs": [],
   "source": [
    "\n",
    "\n",
    "end_lon, end_lat = left_hand_side.minimum_rotated_rectangle.exterior.coords.xy\n",
    "rectangle = np.array(proj(end_lon, end_lat, inverse=True)).T\n",
    "rectangle = Polygon(rectangle)\n"
   ]
  },
  {
   "cell_type": "code",
   "execution_count": null,
   "id": "195e11d1-85ea-4a19-9566-324fa62a569b",
   "metadata": {},
   "outputs": [],
   "source": []
  },
  {
   "cell_type": "code",
   "execution_count": 72,
   "id": "197b1dab-e62e-4f5f-9c9c-f885016d3a04",
   "metadata": {},
   "outputs": [
    {
     "data": {
      "image/svg+xml": [
       "<svg xmlns=\"http://www.w3.org/2000/svg\" xmlns:xlink=\"http://www.w3.org/1999/xlink\" width=\"100.0\" height=\"100.0\" viewBox=\"-91.32375572688557 38.396275461905645 0.09751154850408739 0.07744904079756054\" preserveAspectRatio=\"xMinYMin meet\"><g transform=\"matrix(1,0,0,-1,0,76.86999996460885)\"><path fill-rule=\"evenodd\" fill=\"#66cc99\" stroke=\"#555555\" stroke-width=\"0.0019502309700817476\" opacity=\"0.6\" d=\"M -91.32000046346846,38.39988700073913 L -91.22985571721496,38.46999956184419 L -91.22999944044301,38.470112963869724 L -91.32014418805208,38.400000363157496 L -91.32000046346846,38.39988700073913 z\" /></g></svg>"
      ],
      "text/plain": [
       "<shapely.geometry.polygon.Polygon at 0x2ba1db858828>"
      ]
     },
     "execution_count": 72,
     "metadata": {},
     "output_type": "execute_result"
    }
   ],
   "source": [
    "rectangle"
   ]
  },
  {
   "cell_type": "code",
   "execution_count": 67,
   "id": "a8446cb5-7372-401d-8f55-29a5da45c768",
   "metadata": {},
   "outputs": [],
   "source": [
    "def getEndpoint(d, begin_lon, begin_lat):\n",
    "    \n",
    "    d = d / 0.62137 #Convert d to km from miles\n",
    "    R = 6371.229 #Radius of the Earth \n",
    "    brng = 45 * math.pi/180 #Bearing is 45 degrees converted to radians.\n",
    "\n",
    "    begin_lon = math.radians(begin_lon)\n",
    "    begin_lat = math.radians(begin_lat)\n",
    "\n",
    "    end_lat = math.asin(math.sin(begin_lat)*math.cos(d/R) +\n",
    "                        math.cos(begin_lat)*math.sin(d/R)*math.cos(brng))\n",
    "    \n",
    "    end_lon = begin_lon + math.atan2(math.sin(brng)*math.sin(d/R)*math.cos(begin_lat),\n",
    "                                math.cos(d/R)-math.sin(begin_lat)*math.sin(end_lat))\n",
    "    \n",
    "    end_lat = math.degrees(end_lat)\n",
    "    end_lon = math.degrees(end_lon)\n",
    "    \n",
    "    return end_lon, end_lat\n"
   ]
  },
  {
   "cell_type": "code",
   "execution_count": 83,
   "id": "0aead5a1-badf-405d-a936-8b56a6c9a6c2",
   "metadata": {},
   "outputs": [
    {
     "name": "stdout",
     "output_type": "stream",
     "text": [
      "Finished with 0 rows\n",
      "Finished with 10000 rows\n",
      "Finished with 20000 rows\n",
      "Finished with 30000 rows\n",
      "Finished with 40000 rows\n",
      "Finished with 50000 rows\n",
      "Finished with 60000 rows\n",
      "Finished with 70000 rows\n"
     ]
    }
   ],
   "source": [
    "for index, row in df.iterrows():\n",
    "    if index % 10000 == 0:\n",
    "        print(f\"Finished with {index} rows\")\n",
    "    if np.isinf(row['BEGIN_LON_M']):\n",
    "        print(f\" - No begin lat lon at index {index}\")\n",
    "        continue\n",
    "    if pd.isna(row['END_LON']):\n",
    "        end_lon, end_lat = getEndpoint(row['tor length (miles)'], row['BEGIN_LON'], row['BEGIN_LAT'])\n",
    "        end_lon, end_lat = np.array(proj(end_lon, end_lat)).T\n",
    "        line = LineString([[row['BEGIN_LON_M'], row['BEGIN_LAT_M']],\n",
    "                           [end_lon, end_lat]])\n",
    "        rectangle = line.buffer(row['tor width (feet)'] * 0.3048)        \n",
    "    else:\n",
    "        line = LineString([[row['BEGIN_LON_M'], row['BEGIN_LAT_M']],\n",
    "                           [row['END_LON_M'], row['END_LAT_M']]])\n",
    "        rectangle = line.buffer(row['tor width (feet)'] * 0.3048)\n",
    "    end_lon, end_lat = rectangle.minimum_rotated_rectangle.exterior.coords.xy\n",
    "    rectangle = Polygon(np.array(proj(end_lon, end_lat, inverse=True)).T)\n",
    "    df.at[index, \"track_rectangle\"] = rectangle\n"
   ]
  },
  {
   "cell_type": "code",
   "execution_count": 93,
   "id": "d7d8dcd9-9eb8-412c-b7bd-fe5728f9cb90",
   "metadata": {},
   "outputs": [],
   "source": [
    "gdf = gpd.GeoDataFrame(df, geometry=\"track_rectangle\")\n",
    "gdf.to_file(\"./2019_ncei_tornadoes_rectangles_v1.geojson\", driver='GeoJSON')\n",
    "\"/glade/work/ggantos/tornado_jtti/scripts/2019_ncei_tornadoes_rectangles_v1.geojson\"\n"
   ]
  },
  {
   "cell_type": "code",
   "execution_count": null,
   "id": "a0387ce3-b191-435e-b086-9f57b0314cb5",
   "metadata": {},
   "outputs": [],
   "source": []
  },
  {
   "cell_type": "code",
   "execution_count": null,
   "id": "898223e7-743a-4ba2-b92f-d0509773ed51",
   "metadata": {},
   "outputs": [],
   "source": []
  }
 ],
 "metadata": {
  "kernelspec": {
   "display_name": "Python 3",
   "language": "python",
   "name": "python3"
  },
  "language_info": {
   "codemirror_mode": {
    "name": "ipython",
    "version": 3
   },
   "file_extension": ".py",
   "mimetype": "text/x-python",
   "name": "python",
   "nbconvert_exporter": "python",
   "pygments_lexer": "ipython3",
   "version": "3.6.13"
  }
 },
 "nbformat": 4,
 "nbformat_minor": 5
}
