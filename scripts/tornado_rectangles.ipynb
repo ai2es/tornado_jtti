{
 "cells": [
  {
   "cell_type": "code",
   "execution_count": 1,
   "id": "98c93f99-22b6-4cc4-b98c-350ae0c0d628",
   "metadata": {},
   "outputs": [],
   "source": [
    "import os\n",
    "import math\n",
    "import numpy as np\n",
    "import pandas as pd\n",
    "import xarray as xr\n",
    "import matplotlib.pyplot as plt\n",
    "from pyproj import Proj\n",
    "from shapely.geometry import LineString, Polygon  \n",
    "import geopandas as gpd\n",
    "from datetime import timedelta\n",
    "from datetime import datetime\n"
   ]
  },
  {
   "cell_type": "code",
   "execution_count": 2,
   "id": "58606614-d9b0-4b56-87f5-2bdf0a054692",
   "metadata": {},
   "outputs": [
    {
     "name": "stdout",
     "output_type": "stream",
     "text": [
      "Original df contains 65,125 tornado tracks\n",
      "DF for years 2007 and after contains 15,866 tornado tracks\n",
      "Index(['om', 'yr', 'mo', 'dy', 'date', 'time', 'tz', 'st', 'stf', 'stn', 'mag',\n",
      "       'inj', 'fat', 'loss', 'closs', 'slat', 'slon', 'elat', 'elon', 'len',\n",
      "       'wid', 'ns', 'sn', 'sg', 'f1', 'f2', 'f3', 'f4', 'fc', 'datetime'],\n",
      "      dtype='object')\n"
     ]
    }
   ],
   "source": [
    "df = pd.read_csv('/glade/p/cisl/aiml/conv_risk_intel/spc_tornado_tracks/1950-2019_actual_tornadoes.csv')\n",
    "df = df.loc[df['tz'] == 3]\n",
    "print(f\"Original df contains {df.shape[0]:,} tornado tracks\")\n",
    "\n",
    "df = df[df['yr']>2006].dropna()\n",
    "df['datetime'] = pd.to_datetime(df['date'] + ' ' + df['time'])\n",
    "df = df.sort_values(by=\"datetime\")\n",
    "print(f\"DF for years 2007 and after contains {df.shape[0]:,} tornado tracks\")\n",
    "print(df.columns)\n"
   ]
  },
  {
   "cell_type": "code",
   "execution_count": 3,
   "id": "5c6f39f4-ac50-4355-a414-56f0ca9fc253",
   "metadata": {},
   "outputs": [],
   "source": [
    "proj = Proj(proj='lcc', R=6371229, lat_0=25, lon_0=265, lat_1=25, lat_2=25)\n",
    "\n",
    "df[['slon_m', 'slat_m']] = np.array(proj(list(df['slon']), list(df['slat']))).T\n",
    "df[['elon_m', 'elat_m']] = np.array(proj(list(df['elon']), list(df['elat']))).T\n"
   ]
  },
  {
   "cell_type": "code",
   "execution_count": 4,
   "id": "a8446cb5-7372-401d-8f55-29a5da45c768",
   "metadata": {},
   "outputs": [],
   "source": [
    "def getEndpoint(d, begin_lon, begin_lat):\n",
    "    \n",
    "    d = d / 0.62137 #Convert d to km from miles\n",
    "    R = 6371.229 #Radius of the Earth \n",
    "    brng = 45 * math.pi/180 #Bearing is 45 degrees converted to radians.\n",
    "\n",
    "    begin_lon = math.radians(begin_lon)\n",
    "    begin_lat = math.radians(begin_lat)\n",
    "\n",
    "    end_lat = math.asin(math.sin(begin_lat)*math.cos(d/R) +\n",
    "                        math.cos(begin_lat)*math.sin(d/R)*math.cos(brng))\n",
    "    \n",
    "    end_lon = begin_lon + math.atan2(math.sin(brng)*math.sin(d/R)*math.cos(begin_lat),\n",
    "                                math.cos(d/R)-math.sin(begin_lat)*math.sin(end_lat))\n",
    "    \n",
    "    end_lat = math.degrees(end_lat)\n",
    "    end_lon = math.degrees(end_lon)\n",
    "    \n",
    "    return end_lon, end_lat\n"
   ]
  },
  {
   "cell_type": "code",
   "execution_count": 5,
   "id": "0aead5a1-badf-405d-a936-8b56a6c9a6c2",
   "metadata": {},
   "outputs": [
    {
     "name": "stdout",
     "output_type": "stream",
     "text": [
      "Finished with 0 rows\n",
      "Finished with 5000 rows\n",
      "Finished with 10000 rows\n",
      "Finished with 15000 rows\n",
      "There are 0 NaN values in this df\n"
     ]
    }
   ],
   "source": [
    "for index, row in df.iterrows():\n",
    "    if (df.index[0] - index) % 5000 == 0:\n",
    "        print(f\"Finished with {abs(df.index[0] - index)} rows\")\n",
    "    if np.isinf(row['slon_m']):\n",
    "        print(f\" - No begin lat lon at index {index}\")\n",
    "        continue\n",
    "    if pd.isna(row['elon']):\n",
    "        end_lon, end_lat = getEndpoint(row['len'], row['slon'], row['slat'])\n",
    "        end_lon, end_lat = np.array(proj(end_lon, end_lat)).T\n",
    "        line = LineString([[row['slon_m'], row['slat_m']],\n",
    "                           [end_lon, end_lat]])\n",
    "        rectangle = line.buffer(row['wid'] * 0.9144)       # yard to meter \n",
    "    else:\n",
    "        line = LineString([[row['slon_m'], row['slat_m']],\n",
    "                           [row['elon_m'], row['elat_m']]])\n",
    "        rectangle = line.buffer(row['wid'] * 0.9144)       # yard to meter \n",
    "    end_lon, end_lat = rectangle.minimum_rotated_rectangle.exterior.coords.xy\n",
    "    rectangle = Polygon(np.array(proj(end_lon, end_lat, inverse=True)).T)\n",
    "    df.at[index, \"track_rectangle\"] = rectangle\n",
    "print(f\"There are {df.isnull().sum().sum()} NaN values in this df\")\n",
    "gdf = gpd.GeoDataFrame(df.reset_index(drop=True), geometry=\"track_rectangle\")\n",
    "gdf.to_file(f\"/glade/p/cisl/aiml/jtti_tornado/track_rectangles_spc/track_rectangles_all.geojson\", driver='GeoJSON')\n"
   ]
  },
  {
   "cell_type": "code",
   "execution_count": 6,
   "id": "f7705547-5c1a-49e8-b2de-0bf54c3c8269",
   "metadata": {},
   "outputs": [],
   "source": [
    "def bin_12Z(row):\n",
    "    if row['datetime'].hour < 12:\n",
    "        return pd.to_datetime(row['datetime'].date() - timedelta(days=1)) + timedelta(hours=12)\n",
    "    else:\n",
    "        return pd.to_datetime(row['datetime'].date()) + timedelta(hours=12)\n",
    "\n",
    "df['12Z'] = df.apply(bin_12Z, axis=1)\n"
   ]
  },
  {
   "cell_type": "code",
   "execution_count": 7,
   "id": "d7b5308c-0684-4e94-9069-cabed33f4c11",
   "metadata": {},
   "outputs": [],
   "source": [
    "for name, group in df.groupby('12Z'):\n",
    "    if group.shape[0] == 0:\n",
    "        print(f\"DF at datetime {name} of size 0\")\n",
    "        continue\n",
    "    else:\n",
    "        date = name.strftime('%Y%m%d') \n",
    "        gdf = gpd.GeoDataFrame(group.reset_index(drop=True), geometry=\"track_rectangle\")\n",
    "        gdf.to_file(f\"/glade/p/cisl/aiml/jtti_tornado/track_rectangles_spc/track_rectangles_{date}.geojson\", driver='GeoJSON')\n",
    "    "
   ]
  },
  {
   "cell_type": "code",
   "execution_count": null,
   "id": "7c018947-118f-46b0-99c4-fdeec0fcce12",
   "metadata": {},
   "outputs": [],
   "source": []
  }
 ],
 "metadata": {
  "kernelspec": {
   "display_name": "Python 3",
   "language": "python",
   "name": "python3"
  },
  "language_info": {
   "codemirror_mode": {
    "name": "ipython",
    "version": 3
   },
   "file_extension": ".py",
   "mimetype": "text/x-python",
   "name": "python",
   "nbconvert_exporter": "python",
   "pygments_lexer": "ipython3",
   "version": "3.6.13"
  }
 },
 "nbformat": 4,
 "nbformat_minor": 5
}
