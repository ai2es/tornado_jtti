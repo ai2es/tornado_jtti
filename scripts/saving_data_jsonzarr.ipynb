{
 "cells": [
  {
   "cell_type": "code",
   "execution_count": 1,
   "id": "eb99c215-082b-4b66-a5b1-b16470ef4e5a",
   "metadata": {},
   "outputs": [],
   "source": [
    "import glob\n",
    "import pickle\n",
    "import numpy as np\n",
    "import pandas as pd\n",
    "import xarray as xr\n",
    "import geopandas as gpd\n",
    "from datetime import datetime, timedelta\n",
    "from os.path import exists, join\n",
    "import matplotlib.pyplot as plt\n",
    "\n",
    "import match_ids\n"
   ]
  },
  {
   "cell_type": "code",
   "execution_count": 2,
   "id": "8724ffe0-70a2-4a06-84a5-7dac621a22ff",
   "metadata": {},
   "outputs": [],
   "source": [
    "tor_path = \"/glade/p/cisl/aiml/jtti_tornado/gridrad_storm_tracks/\"\n",
    "save_path = \"/glade/scratch/ggantos/tornado_jtti/\"\n",
    "save_path = \"/glade/p/cisl/aiml/jtti_tornado/gridrad_radar_zarr\"\n"
   ]
  },
  {
   "cell_type": "code",
   "execution_count": 5,
   "id": "ca3e9987-45fc-4aa1-947d-7b72fb01de10",
   "metadata": {},
   "outputs": [
    {
     "name": "stdout",
     "output_type": "stream",
     "text": [
      "Years in data: ['2011', '2012', '2013', '2014', '2015', '2016', '2017', '2018']\n",
      "First ten dates in data: ['20110108', '20110109', '20110125', '20110224', '20110225', '20110305', '20110318', '20110319', '20110329', '20110330']\n"
     ]
    }
   ],
   "source": [
    "all_dates = match_ids.get_all_pickle_dates(tor_path)\n",
    "print(f\"First ten dates in data: {all_dates[:10]}\")\n"
   ]
  },
  {
   "cell_type": "code",
   "execution_count": 6,
   "id": "9dcedf3c-f61d-4abf-8dfe-7864cd308f06",
   "metadata": {
    "scrolled": true,
    "tags": []
   },
   "outputs": [
    {
     "name": "stdout",
     "output_type": "stream",
     "text": [
      "Number of files for 20110108: 120\n"
     ]
    }
   ],
   "source": [
    "# SAVE pickle files to geojson for 24 hour period (12Z to 12Z)\n",
    "\n",
    "cols_drop = ['grid_point_latitudes_deg', 'grid_point_longitudes_deg', 'grid_point_rows', 'grid_point_columns', 'polygon_object_rowcol']\n",
    "\n",
    "for date in all_dates[:1]:\n",
    "    storm_poly = match_ids.load_track_day(tor_path, date)\n",
    "    if storm_poly.size == 0:\n",
    "        print(f\"Dropping date: {date}\")\n",
    "        continue\n",
    "    storm_poly = storm_poly.drop(cols_drop, axis=1)\n",
    "    storm_poly = gpd.GeoDataFrame(storm_poly, geometry='polygon_object_latlng_deg')\n",
    "#     storm_poly.to_file(join(save_path, f\"storm_poly_{date}.geojson\"), driver=\"GeoJSON\")\n"
   ]
  },
  {
   "cell_type": "code",
   "execution_count": 7,
   "id": "453ece48-2119-4032-90f9-16662c0a83a3",
   "metadata": {},
   "outputs": [
    {
     "data": {
      "text/plain": [
       "Index(['full_id_string', 'primary_id_string', 'secondary_id_string',\n",
       "       'first_prev_secondary_id_string', 'second_prev_secondary_id_string',\n",
       "       'first_next_secondary_id_string', 'second_next_secondary_id_string',\n",
       "       'valid_time_unix_sec', 'spc_date_string',\n",
       "       'tracking_start_time_unix_sec', 'tracking_end_time_unix_sec',\n",
       "       'cell_start_time_unix_sec', 'cell_end_time_unix_sec', 'age_seconds',\n",
       "       'centroid_latitude_deg', 'centroid_longitude_deg',\n",
       "       'east_velocity_m_s01', 'north_velocity_m_s01',\n",
       "       'polygon_object_latlng_deg', 'run_time_unix_sec'],\n",
       "      dtype='object')"
      ]
     },
     "execution_count": 7,
     "metadata": {},
     "output_type": "execute_result"
    }
   ],
   "source": [
    "storm_poly.keys()"
   ]
  },
  {
   "cell_type": "code",
   "execution_count": 15,
   "id": "615f7501-d5c4-4543-8534-1c34a92603e5",
   "metadata": {},
   "outputs": [
    {
     "data": {
      "image/svg+xml": [
       "<svg xmlns=\"http://www.w3.org/2000/svg\" xmlns:xlink=\"http://www.w3.org/1999/xlink\" width=\"100.0\" height=\"100.0\" viewBox=\"259.768704 30.895904 0.06739200000004075 0.046592000000003964\" preserveAspectRatio=\"xMinYMin meet\"><g transform=\"matrix(1,0,0,-1,0,61.83840000000001)\"><path fill-rule=\"evenodd\" fill=\"#66cc99\" stroke=\"#555555\" stroke-width=\"0.001347840000000815\" opacity=\"0.6\" d=\"M 259.7712,30.940000000000005 L 259.7712,30.898400000000002 L 259.81280000000004,30.898400000000002 L 259.81280000000004,30.919200000000004 L 259.83360000000005,30.919200000000004 L 259.83360000000005,30.940000000000005 L 259.7712,30.940000000000005 z\" /></g></svg>"
      ],
      "text/plain": [
       "<shapely.geometry.polygon.Polygon at 0x2b976c11c5f8>"
      ]
     },
     "execution_count": 15,
     "metadata": {},
     "output_type": "execute_result"
    }
   ],
   "source": [
    "storm_poly['polygon_object_latlng_deg'][0]"
   ]
  },
  {
   "cell_type": "code",
   "execution_count": 14,
   "id": "8e7f9bda-4442-41ce-828a-5f1ba3a0d7c2",
   "metadata": {},
   "outputs": [
    {
     "data": {
      "text/plain": [
       "(array('d', [259.7712, 259.7712, 259.81280000000004, 259.81280000000004, 259.83360000000005, 259.83360000000005, 259.7712]),\n",
       " array('d', [30.940000000000005, 30.898400000000002, 30.898400000000002, 30.919200000000004, 30.919200000000004, 30.940000000000005, 30.940000000000005]))"
      ]
     },
     "execution_count": 14,
     "metadata": {},
     "output_type": "execute_result"
    }
   ],
   "source": [
    "storm_poly['polygon_object_latlng_deg'][0].exterior.coords.xy"
   ]
  },
  {
   "cell_type": "code",
   "execution_count": 12,
   "id": "ea3acc89-bbfb-4078-94e8-f2ede17b7e06",
   "metadata": {},
   "outputs": [
    {
     "data": {
      "text/plain": [
       "0    POLYGON ((259.771 30.940, 259.771 30.898, 259....\n",
       "1    POLYGON ((259.834 30.982, 259.834 30.961, 259....\n",
       "Name: polygon_object_latlng_deg, dtype: geometry"
      ]
     },
     "execution_count": 12,
     "metadata": {},
     "output_type": "execute_result"
    }
   ],
   "source": [
    "storm_poly['polygon_object_latlng_deg'].head(2)"
   ]
  },
  {
   "cell_type": "code",
   "execution_count": null,
   "id": "a36382fd-6fbc-4864-a627-e33924fd942e",
   "metadata": {},
   "outputs": [],
   "source": [
    "# def lon_to_web_mercator(lon):\n",
    "#     k = 6378137\n",
    "#     return lon * (k * np.pi / 180.0)\n",
    "\n",
    "# def lat_to_web_mercator(lat):\n",
    "#     k = 6378137\n",
    "#     return np.log(np.tan(((90 + lat) * np.pi / 360.0))) * k\n"
   ]
  },
  {
   "cell_type": "code",
   "execution_count": null,
   "id": "c231f235-1d5d-4b9c-ac49-25d568ac1686",
   "metadata": {},
   "outputs": [],
   "source": [
    "# def convert_polygon_to_boundary(df):\n",
    "#     xs = []\n",
    "#     lons = []\n",
    "#     ys = []\n",
    "#     lats = []\n",
    "#     for i in df.index:\n",
    "#         x, y = df.loc[i, 'polygon_object_latlng_deg'].exterior.coords.xy\n",
    "#         xs.append(lon_to_web_mercator(np.array(x) - 360))\n",
    "#         lons.append(np.array(x) - 360)\n",
    "#         ys.append(lat_to_web_mercator(np.array(y)))\n",
    "#         lats.append(np.array(y))\n",
    "#     df['x'] = xs\n",
    "#     df['lons'] = lons\n",
    "#     df['y'] = ys\n",
    "#     df['lats'] = lats\n",
    "#     return df"
   ]
  },
  {
   "cell_type": "code",
   "execution_count": 6,
   "id": "f789cf15-09fe-48b9-890d-d34365024510",
   "metadata": {},
   "outputs": [
    {
     "name": "stdout",
     "output_type": "stream",
     "text": [
      "Number of files for 20110108: 120\n",
      "polygon: 421\tRadar: 420\tOverlap: 420\n",
      "Number of files for 20110109: 1\n",
      "polygon: 1\tRadar: 1\tOverlap: 1\n",
      "Number of files for 20110125: 133\n",
      "polygon: 595\tRadar: 573\tOverlap: 573\n",
      "Number of files for 20110224: 145\n",
      "polygon: 3083\tRadar: 3073\tOverlap: 3073\n",
      "Dropping date: 20110225\n",
      "Dropping date: 20110305\n",
      "Dropping date: 20110318\n",
      "Number of files for 20110319: 145\n",
      "polygon: 724\tRadar: 722\tOverlap: 722\n",
      "Number of files for 20110329: 181\n",
      "polygon: 5562\tRadar: 5552\tOverlap: 5552\n",
      "Number of files for 20110330: 48\n",
      "polygon: 88\tRadar: 88\tOverlap: 88\n",
      "Number of files for 20110331: 73\n",
      "polygon: 355\tRadar: 355\tOverlap: 355\n",
      "Number of files for 20110409: 109\n",
      "polygon: 2673\tRadar: 2673\tOverlap: 2673\n",
      "Number of files for 20110410: 97\n",
      "polygon: 676\tRadar: 676\tOverlap: 676\n",
      "Number of files for 20110414: 204\n",
      "polygon: 6735\tRadar: 6726\tOverlap: 6726\n",
      "Number of files for 20110415: 288\n",
      "polygon: 9124\tRadar: 9124\tOverlap: 9124\n",
      "Number of files for 20110416: 181\n",
      "polygon: 2060\tRadar: 2060\tOverlap: 2060\n",
      "Number of files for 20110421: 121\n",
      "polygon: 805\tRadar: 803\tOverlap: 803\n",
      "Number of files for 20110424: 145\n",
      "polygon: 4568\tRadar: 4540\tOverlap: 4540\n",
      "Number of files for 20110426: 180\n",
      "polygon: 10798\tRadar: 10751\tOverlap: 10751\n",
      "Number of files for 20110427: 157\n",
      "polygon: 6380\tRadar: 6380\tOverlap: 6380\n",
      "Number of files for 20110501: 73\n",
      "polygon: 2555\tRadar: 2519\tOverlap: 2519\n",
      "Number of files for 20110522: 97\n",
      "polygon: 5617\tRadar: 5567\tOverlap: 5567\n",
      "Number of files for 20110524: 145\n",
      "polygon: 5170\tRadar: 5161\tOverlap: 5161\n",
      "Number of files for 20110526: 121\n",
      "polygon: 9485\tRadar: 9390\tOverlap: 9390\n",
      "Number of files for 20110528: 109\n",
      "polygon: 383\tRadar: 379\tOverlap: 379\n",
      "Number of files for 20110529: 97\n",
      "polygon: 1271\tRadar: 1211\tOverlap: 1211\n",
      "Number of files for 20110531: 12\n",
      "polygon: 71\tRadar: 56\tOverlap: 56\n",
      "Number of files for 20110601: 193\n",
      "polygon: 1677\tRadar: 1677\tOverlap: 1677\n",
      "Number of files for 20110608: 85\n",
      "polygon: 438\tRadar: 377\tOverlap: 377\n",
      "Number of files for 20110610: 133\n",
      "polygon: 7809\tRadar: 5508\tOverlap: 5508\n",
      "Number of files for 20110612: 169\n",
      "polygon: 4172\tRadar: 2433\tOverlap: 2433\n",
      "Number of files for 20110622: 145\n",
      "polygon: 5507\tRadar: 5477\tOverlap: 5477\n",
      "Number of files for 20110627: 97\n",
      "polygon: 1566\tRadar: 1222\tOverlap: 1222\n",
      "Number of files for 20110629: 121\n",
      "polygon: 965\tRadar: 952\tOverlap: 952\n",
      "Number of files for 20110706: 121\n",
      "polygon: 1753\tRadar: 1753\tOverlap: 1753\n",
      "Number of files for 20110708: 133\n",
      "polygon: 2617\tRadar: 2613\tOverlap: 2613\n",
      "Number of files for 20110717: 205\n",
      "polygon: 1653\tRadar: 1646\tOverlap: 1646\n",
      "Number of files for 20110726: 205\n",
      "polygon: 7170\tRadar: 7167\tOverlap: 7167\n",
      "Number of files for 20110802: 121\n",
      "polygon: 692\tRadar: 409\tOverlap: 409\n",
      "Number of files for 20110807: 109\n",
      "polygon: 408\tRadar: 330\tOverlap: 330\n",
      "Number of files for 20110821: 145\n",
      "polygon: 2117\tRadar: 1670\tOverlap: 1670\n",
      "Number of files for 20110826: 180\n",
      "polygon: 467\tRadar: 456\tOverlap: 456\n",
      "Number of files for 20110827: 253\n",
      "polygon: 588\tRadar: 584\tOverlap: 584\n",
      "Number of files for 20110828: 1\n",
      "polygon: 1\tRadar: 1\tOverlap: 1\n",
      "Number of files for 20110917: 121\n",
      "polygon: 3746\tRadar: 3714\tOverlap: 3714\n",
      "Number of files for 20110925: 121\n",
      "polygon: 2486\tRadar: 2481\tOverlap: 2481\n",
      "Dropping date: 20110927\n",
      "Number of files for 20111007: 180\n",
      "polygon: 3010\tRadar: 3004\tOverlap: 3004\n",
      "Number of files for 20111008: 13\n",
      "polygon: 57\tRadar: 57\tOverlap: 57\n",
      "Number of files for 20111018: 121\n",
      "polygon: 159\tRadar: 157\tOverlap: 157\n",
      "Number of files for 20111107: 169\n",
      "polygon: 4768\tRadar: 4765\tOverlap: 4765\n",
      "Number of files for 20111108: 145\n",
      "polygon: 3108\tRadar: 3089\tOverlap: 3089\n",
      "Number of files for 20111115: 60\n",
      "polygon: 1089\tRadar: 1046\tOverlap: 1046\n",
      "Number of files for 20111116: 205\n",
      "polygon: 3669\tRadar: 3669\tOverlap: 3669\n",
      "Number of files for 20111121: 85\n",
      "polygon: 1789\tRadar: 1764\tOverlap: 1764\n",
      "Number of files for 20111221: 85\n",
      "polygon: 530\tRadar: 522\tOverlap: 522\n",
      "Number of files for 20111222: 169\n",
      "polygon: 2329\tRadar: 2289\tOverlap: 2289\n",
      "Dropping date: 20120409\n",
      "Dropping date: 20120413\n",
      "Dropping date: 20120414\n",
      "Dropping date: 20130109\n",
      "Dropping date: 20130110\n",
      "Dropping date: 20130112\n",
      "Dropping date: 20130218\n",
      "Dropping date: 20130219\n",
      "Dropping date: 20130305\n",
      "Dropping date: 20130317\n",
      "Dropping date: 20130318\n",
      "Dropping date: 20130324\n",
      "Dropping date: 20130329\n",
      "Dropping date: 20130330\n",
      "Dropping date: 20130407\n",
      "Dropping date: 20130411\n",
      "Dropping date: 20130423\n",
      "Dropping date: 20130424\n",
      "Dropping date: 20130426\n",
      "Dropping date: 20130428\n",
      "Dropping date: 20130507\n",
      "Dropping date: 20130508\n",
      "Dropping date: 20130516\n",
      "Dropping date: 20130519\n",
      "Dropping date: 20130520\n",
      "Dropping date: 20130523\n",
      "Dropping date: 20130526\n",
      "Dropping date: 20130527\n",
      "Dropping date: 20130528\n",
      "Dropping date: 20130531\n",
      "Dropping date: 20130604\n",
      "Dropping date: 20130606\n",
      "Dropping date: 20130612\n",
      "Dropping date: 20130619\n",
      "Dropping date: 20130621\n",
      "Dropping date: 20130626\n",
      "Dropping date: 20130712\n",
      "Dropping date: 20130715\n",
      "Dropping date: 20130725\n",
      "Dropping date: 20130727\n",
      "Dropping date: 20130803\n",
      "Dropping date: 20130805\n",
      "Dropping date: 20130806\n",
      "Dropping date: 20130812\n",
      "Dropping date: 20130826\n",
      "Dropping date: 20130901\n",
      "Dropping date: 20130911\n",
      "Dropping date: 20130915\n",
      "Dropping date: 20130916\n",
      "Dropping date: 20130929\n",
      "Dropping date: 20130930\n",
      "Dropping date: 20131004\n",
      "Dropping date: 20131007\n",
      "Dropping date: 20131012\n",
      "Dropping date: 20131117\n",
      "Dropping date: 20131126\n",
      "Dropping date: 20131214\n",
      "Dropping date: 20131221\n",
      "Dropping date: 20140427\n",
      "Dropping date: 20140510\n",
      "Dropping date: 20140511\n",
      "Dropping date: 20140521\n",
      "Dropping date: 20140616\n",
      "Dropping date: 20140617\n",
      "Dropping date: 20140618\n",
      "Dropping date: 20141012\n",
      "Dropping date: 20141013\n",
      "Number of files for 20150506: 133\n",
      "polygon: 3860\tRadar: 3860\tOverlap: 3860\n",
      "Number of files for 20150519: 30\n",
      "polygon: 373\tRadar: 355\tOverlap: 355\n",
      "Number of files for 20150524: 205\n",
      "polygon: 2048\tRadar: 2041\tOverlap: 2041\n",
      "Number of files for 20150525: 145\n",
      "polygon: 8112\tRadar: 8072\tOverlap: 8072\n",
      "Number of files for 20150527: 181\n",
      "polygon: 6407\tRadar: 6399\tOverlap: 6399\n",
      "Dropping date: 20150604\n",
      "Number of files for 20151223: 193\n",
      "polygon: 3249\tRadar: 3227\tOverlap: 3227\n",
      "Number of files for 20160415: 145\n",
      "polygon: 2294\tRadar: 2294\tOverlap: 2294\n",
      "Number of files for 20160509: 109\n",
      "polygon: 3097\tRadar: 3087\tOverlap: 3087\n",
      "Number of files for 20160524: 97\n",
      "polygon: 1704\tRadar: 1700\tOverlap: 1700\n",
      "Number of files for 20160525: 85\n",
      "polygon: 412\tRadar: 412\tOverlap: 412\n",
      "Number of files for 20170328: 205\n",
      "polygon: 5461\tRadar: 5461\tOverlap: 5461\n",
      "Number of files for 20170402: 48\n",
      "polygon: 823\tRadar: 789\tOverlap: 789\n",
      "Number of files for 20170403: 181\n",
      "polygon: 2778\tRadar: 2778\tOverlap: 2778\n",
      "Number of files for 20170405: 205\n",
      "polygon: 7796\tRadar: 7734\tOverlap: 7734\n",
      "Number of files for 20170516: 181\n",
      "polygon: 12173\tRadar: 12167\tOverlap: 12167\n",
      "Number of files for 20170518: 205\n",
      "polygon: 9100\tRadar: 9100\tOverlap: 9100\n",
      "Number of files for 20170628: 205\n",
      "polygon: 8100\tRadar: 8091\tOverlap: 8091\n",
      "Number of files for 20170629: 157\n",
      "polygon: 7243\tRadar: 7218\tOverlap: 7218\n",
      "Number of files for 20170718: 12\n",
      "polygon: 338\tRadar: 287\tOverlap: 287\n",
      "Number of files for 20170719: 205\n",
      "polygon: 5892\tRadar: 5892\tOverlap: 5892\n",
      "Number of files for 20180319: 288\n",
      "polygon: 3115\tRadar: 3098\tOverlap: 3098\n",
      "Number of files for 20180403: 288\n",
      "polygon: 9975\tRadar: 9963\tOverlap: 9963\n"
     ]
    }
   ],
   "source": [
    "for date in all_dates:\n",
    "    storm_ds = match_ids.load_patch_day(tor_path, date)\n",
    "    if storm_ds is None:\n",
    "        print(f\"Dropping date: {date}\")\n",
    "        continue\n",
    "    storm_ds.to_zarr(join(save_path, f\"storm_radar_{date}.zarr\"))\n",
    "    storm_poly = match_ids.load_track_day(tor_path, date)\n",
    "#     storm_poly['valid_time'] = pd.to_datetime(storm_poly['valid_time_unix_sec'], unit='s')\n",
    "#     storm_poly = convert_polygon_to_boundary(storm_poly)\n",
    "#     storm_poly = storm_poly.drop(cols_drop, axis=1)\n",
    "    poly_id = storm_poly[\"full_id_string\"] + \"_\" + storm_poly[\"valid_time_unix_sec\"].astype(str)\n",
    "    ds_id = pd.Series(storm_ds[\"full_storm_id_strings\"].values).str.decode(\"utf-8\") + \"_\" + pd.Series(storm_ds[\"storm_times_unix_sec\"].values).astype(str)\n",
    "    overlap = np.intersect1d(poly_id, ds_id)\n",
    "    print(f\"polygon: {poly_id.size}\\tRadar: {ds_id.size}\\tOverlap: {overlap.size}\")\n",
    "    "
   ]
  },
  {
   "cell_type": "code",
   "execution_count": null,
   "id": "57e0dd7f-1608-4141-884a-571e8b1ad08e",
   "metadata": {},
   "outputs": [],
   "source": [
    "# radar_field = 0\n",
    "# radar_height = 1\n",
    "\n",
    "# for storm_idx in range(100,110):\n",
    "#     plt.pcolormesh(storm_ds['radar_image_matrix'].values[storm_idx, :, :, radar_height, radar_field],\n",
    "#                    vmin=0, vmax=80, cmap='gist_ncar')\n",
    "#     plt.colorbar()\n",
    "#     plt.show()\n"
   ]
  },
  {
   "cell_type": "code",
   "execution_count": 10,
   "id": "08d87d76-28ee-4c8f-b33d-b73e8d110b79",
   "metadata": {},
   "outputs": [
    {
     "name": "stdout",
     "output_type": "stream",
     "text": [
      "full_storm_id_strings\n",
      "radar_field_names\n",
      "target_names\n",
      "storm_times_unix_sec\n",
      "target_matrix\n",
      "radar_heights_m_agl\n",
      "radar_image_matrix\n",
      "sounding_field_names\n",
      "sounding_heights_m_agl\n",
      "sounding_matrix\n"
     ]
    }
   ],
   "source": [
    "for variable in storm_ds.variables:\n",
    "    print (variable)"
   ]
  },
  {
   "cell_type": "code",
   "execution_count": null,
   "id": "7fabb94f-b79f-4748-8d20-854627ad8a9d",
   "metadata": {},
   "outputs": [],
   "source": []
  }
 ],
 "metadata": {
  "kernelspec": {
   "display_name": "Python 3",
   "language": "python",
   "name": "python3"
  },
  "language_info": {
   "codemirror_mode": {
    "name": "ipython",
    "version": 3
   },
   "file_extension": ".py",
   "mimetype": "text/x-python",
   "name": "python",
   "nbconvert_exporter": "python",
   "pygments_lexer": "ipython3",
   "version": "3.6.13"
  }
 },
 "nbformat": 4,
 "nbformat_minor": 5
}
