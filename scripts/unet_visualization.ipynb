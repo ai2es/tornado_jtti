{
 "cells": [
  {
   "cell_type": "code",
   "execution_count": 1,
   "id": "c6655a89-e92f-48f5-9280-b8e9cc46ab39",
   "metadata": {},
   "outputs": [],
   "source": [
    "import os\n",
    "import numpy as np\n",
    "import xarray as xr\n",
    "import pandas as pd\n",
    "import geopandas as gpd\n",
    "from skimage import measure\n",
    "from shapely.geometry.polygon import Polygon\n",
    "import folium"
   ]
  },
  {
   "cell_type": "code",
   "execution_count": 2,
   "id": "b715ee4a-1909-4278-bf17-cd3c777ec0e2",
   "metadata": {},
   "outputs": [],
   "source": [
    "path_data = \"/glade/p/cisl/aiml/jtti_tornado/wofs_predictions/2019/\"\n",
    "path_save = \"/glade/p/cisl/aiml/jtti_tornado/unet_donuts/2019/\"\n",
    "\n",
    "var_intensities = {'UH': [25, 50, 75, 100, 125, 150],\n",
    "                   'ZH_1km': np.arange(10, 85, 5),\n",
    "                   'predicted_tor': np.arange(.10, .70, .10)}\n",
    "var_save_str = {'UH': 'uh',\n",
    "                'ZH_1km': 'zh',\n",
    "                'predicted_tor': 'tor'}"
   ]
  },
  {
   "cell_type": "code",
   "execution_count": 3,
   "id": "1e2f5b5b-1ee6-4121-846a-e0d78d64ac4e",
   "metadata": {
    "scrolled": true,
    "tags": []
   },
   "outputs": [],
   "source": [
    "for date in next(os.walk(path_data))[1]:\n",
    "    path_date = os.path.join(path_data, date)\n",
    "    os.makedirs(path_date, exist_ok=True)\n",
    "    directories = [f[0] for f in os.walk(path_date) if f[0].endswith('ENS_MEM', 68, 75)]\n",
    "    for directory in directories[:1]:\n",
    "        ds = xr.open_dataset(os.path.join(directory, \"wofs_stitched_light.nc\"))\n",
    "        identifier = directory.split(\"/\")[-1]\n",
    "        lons = ds['lon'] - 360\n",
    "        lats = ds['lat']\n",
    "        for var in ['UH', 'ZH_1km', 'predicted_tor']:\n",
    "            for time in ds[\"time\"].values:\n",
    "                df = pd.DataFrame()\n",
    "                var_grid = ds.sel(time=time).to_dataframe()[var].unstack('lat').values\n",
    "        break\n",
    "                # for intensity in var_intensities[var][:1]:\n",
    "                #     contours = measure.find_contours(var_grid, intensity)\n",
    "                #     for i, contour in enumerate(contours):\n",
    "                #         if contour.shape[0] < 3:\n",
    "                #             continue\n",
    "                #         else:\n",
    "                #             contour = np.round(contour).astype(int)\n",
    "                #             lons_contour = lons[contour[:, 0:1].flatten()].values.reshape(-1,1)\n",
    "                #             lats_contour = lats[contour[:, 1:2].flatten()].values.reshape(-1,1)\n",
    "                #             contour = np.hstack((lons_contour, lats_contour))\n",
    "                #             contour_dict = {\"intensity\": intensity, \"time\":time, \"geometry\": Polygon(contour)}\n",
    "                #             df = df.append(contour_dict, ignore_index=True)\n",
    "                # if df.shape[0] > 0:\n",
    "                #     gdf = gpd.GeoDataFrame(df, geometry=\"geometry\").set_crs(\"EPSG:4326\")\n",
    "                #     time = pd.to_datetime(str(time)).strftime(\"%Y%m%d_%H%M%S\")\n",
    "                #     file = f'{var_save_str[var]}_{identifier}_{time}.geojson'\n",
    "                #     gdf.to_file(os.path.join(path_save, date, file), driver='GeoJSON')"
   ]
  },
  {
   "cell_type": "code",
   "execution_count": 2,
   "id": "d98fc2bd-ab68-4d43-8b2e-e7215bc9bc64",
   "metadata": {},
   "outputs": [
    {
     "ename": "NameError",
     "evalue": "name 'var_grid' is not defined",
     "output_type": "error",
     "traceback": [
      "\u001b[0;31m---------------------------------------------------------------------------\u001b[0m",
      "\u001b[0;31mNameError\u001b[0m                                 Traceback (most recent call last)",
      "\u001b[0;32m<ipython-input-2-fac360a62700>\u001b[0m in \u001b[0;36m<module>\u001b[0;34m()\u001b[0m\n\u001b[0;32m----> 1\u001b[0;31m \u001b[0mvar_grid\u001b[0m\u001b[0;34m\u001b[0m\u001b[0;34m\u001b[0m\u001b[0m\n\u001b[0m",
      "\u001b[0;31mNameError\u001b[0m: name 'var_grid' is not defined"
     ]
    }
   ],
   "source": [
    "var_grid"
   ]
  },
  {
   "cell_type": "code",
   "execution_count": 5,
   "id": "3d9e2835-6fc4-488f-a508-30d4bed14858",
   "metadata": {},
   "outputs": [
    {
     "data": {
      "text/plain": [
       "(427, 380)"
      ]
     },
     "execution_count": 5,
     "metadata": {},
     "output_type": "execute_result"
    }
   ],
   "source": [
    "var_grid.shape"
   ]
  },
  {
   "cell_type": "code",
   "execution_count": 15,
   "id": "44ec95c9-598a-4ebb-8903-f478a33b203b",
   "metadata": {},
   "outputs": [
    {
     "name": "stdout",
     "output_type": "stream",
     "text": [
      "(380, 427)\n"
     ]
    }
   ],
   "source": [
    "print(ds[var].sel(time=time).shape)\n",
    "var_grid = ds[var].sel(time=time)"
   ]
  },
  {
   "cell_type": "markdown",
   "id": "c58d0c2a-19e7-419e-b76d-c40346e56fcb",
   "metadata": {},
   "source": [
    "https://stackoverflow.com/questions/48770822/how-to-make-holes-in-a-polygon-in-shapely-python-having-polygons"
   ]
  },
  {
   "cell_type": "code",
   "execution_count": 18,
   "id": "780dc6b0-ea05-4740-a2a0-907d0865c2a9",
   "metadata": {},
   "outputs": [],
   "source": [
    "contours = measure.find_contours(var_grid.values, var_intensities[var][0])\n",
    "# contour_0 = np.round(contour_0).astype(int)\n",
    "# lons_contour_0 = lons[contour_0[:, 0:1].flatten()].values.reshape(-1,1)\n",
    "# lats_contour_0 = lats[contour_0[:, 1:2].flatten()].values.reshape(-1,1)\n",
    "# contour_0 = np.hstack((lons_contour_0, lats_contour_0))\n",
    "\n",
    "# contour_1 = measure.find_contours(var_grid, var_intensities[var][1])\n",
    "# contour_1 = np.round(contour_1).astype(int)\n",
    "# lons_contour_1 = lons[contour_1[:, 0:1].flatten()].values.reshape(-1,1)\n",
    "# lats_contour_1 = lats[contour_1[:, 1:2].flatten()].values.reshape(-1,1)\n",
    "# contour_1 = np.hstack((lons_contour_1, lats_contour_1))"
   ]
  },
  {
   "cell_type": "code",
   "execution_count": 21,
   "id": "53df95cc-a4ea-47d3-8c1e-5b7c10da52ac",
   "metadata": {},
   "outputs": [
    {
     "name": "stdout",
     "output_type": "stream",
     "text": [
      "26\n",
      "(7, 2)\n",
      "(7, 2)\n",
      "(23, 2)\n",
      "(27, 2)\n",
      "(19, 2)\n",
      "(63, 2)\n",
      "(29, 2)\n",
      "(7, 2)\n",
      "(33, 2)\n",
      "(151, 2)\n",
      "(5, 2)\n",
      "(27, 2)\n",
      "(5, 2)\n",
      "(75, 2)\n",
      "(55, 2)\n",
      "(41, 2)\n",
      "(11, 2)\n",
      "(11, 2)\n",
      "(13, 2)\n",
      "(69, 2)\n",
      "(15, 2)\n",
      "(27, 2)\n",
      "(25, 2)\n",
      "(23, 2)\n",
      "(13, 2)\n",
      "(29, 2)\n"
     ]
    }
   ],
   "source": [
    "print(len(contours))\n",
    "for contour in contours:\n",
    "    print(contour.shape)"
   ]
  },
  {
   "cell_type": "code",
   "execution_count": null,
   "id": "b8cf3173-6e46-4ae3-8a2f-8d6fa80e5ef8",
   "metadata": {},
   "outputs": [],
   "source": [
    "style1 = {'fillColor': '#4E79A7', 'color': '#4E79A7'}\n",
    "style2 = {'fillColor': '#A0CBE8', 'color': '#A0CBE8'}\n",
    "style3 = {'fillColor': '#F28E2B', 'color': '#F28E2B'}\n",
    "style4 = {'fillColor': '#FFBE7D', 'color': '#FFBE7D'}\n",
    "style5 = {'fillColor': '#59A14F', 'color': '#59A14F'}\n",
    "style6 = {'fillColor': '#8CD18D', 'color': '#8CD18D'}\n",
    "style7 = {'fillColor': '#B6992D', 'color': '#B6992D'}\n",
    "style8 = {'fillColor': '#F1CE63', 'color': '#F1CE63'}\n",
    "style9 = {'fillColor': '#499894', 'color': '#499894'}\n",
    "style10 = {'fillColor': '#86BCB6', 'color': '#86BCB6'}\n",
    "style11 = {'fillColor': '#E15759', 'color': '#E15759'}\n",
    "style12 = {'fillColor': '#FF9D9A', 'color': '#FF9D9A'}\n",
    "style13 = {'fillColor': '#79706E', 'color': '#79706E'}\n",
    "style14 = {'fillColor': '#BAB0AC', 'color': '#BAB0AC'}\n",
    "style15 = {'fillColor': '#D37295', 'color': '#D37295'}\n",
    "style16 = {'fillColor': '#FABFD2', 'color': '#FABFD2'}\n",
    "style17 = {'fillColor': '#B07AA1', 'color': '#B07AA1'}\n",
    "style18 = {'fillColor': '#D4A6C8', 'color': '#D4A6C8'}\n",
    "style19 = {'fillColor': '#9D7660', 'color': '#9D7660'}\n",
    "style20 = {'fillColor': '#D7B5A6', 'color': '#D7B5A6'}"
   ]
  },
  {
   "cell_type": "code",
   "execution_count": null,
   "id": "ab399c6e-63b3-49ea-af72-b9f062e6e046",
   "metadata": {},
   "outputs": [],
   "source": [
    "m = folium.Map(location=[40, -90], zoom_start=5, tiles='CartoDB positron')\n",
    "folium.GeoJson(data=gdf_uh[gdf_uh['intensity']==25]['geometry'], style_function=lambda x: style1).add_to(m)\n",
    "folium.GeoJson(data=gdf_uh[gdf_uh['intensity']==50]['geometry'], style_function=lambda x: style2).add_to(m)\n",
    "folium.GeoJson(data=gdf_uh[gdf_uh['intensity']==75]['geometry'], style_function=lambda x: style3).add_to(m)\n",
    "folium.GeoJson(data=gdf_uh[gdf_uh['intensity']==100]['geometry'], style_function=lambda x: style4).add_to(m)\n",
    "folium.GeoJson(data=gdf_uh[gdf_uh['intensity']==125]['geometry'], style_function=lambda x: style5).add_to(m)\n",
    "m"
   ]
  },
  {
   "cell_type": "code",
   "execution_count": null,
   "id": "1515c6d9-b2e9-43d3-a1b8-2c8c7f145882",
   "metadata": {},
   "outputs": [],
   "source": [
    "style1 = {'fillColor': '#003f5c', 'color': '#003f5c'}\n",
    "m = folium.Map(location=[40, -90], zoom_start=5, tiles='CartoDB positron')\n",
    "folium.GeoJson(data=gdf_zh[gdf_zh['intensity']==10]['geometry'], style_function=lambda x: style1).add_to(m)\n",
    "folium.GeoJson(data=gdf_zh[gdf_zh['intensity']==15]['geometry'], style_function=lambda x: style2).add_to(m)\n",
    "folium.GeoJson(data=gdf_zh[gdf_zh['intensity']==20]['geometry'], style_function=lambda x: style3).add_to(m)\n",
    "folium.GeoJson(data=gdf_zh[gdf_zh['intensity']==25]['geometry'], style_function=lambda x: style4).add_to(m)\n",
    "folium.GeoJson(data=gdf_zh[gdf_zh['intensity']==30]['geometry'], style_function=lambda x: style5).add_to(m)\n",
    "folium.GeoJson(data=gdf_zh[gdf_zh['intensity']==35]['geometry'], style_function=lambda x: style6).add_to(m)\n",
    "folium.GeoJson(data=gdf_zh[gdf_zh['intensity']==40]['geometry'], style_function=lambda x: style7).add_to(m)\n",
    "folium.GeoJson(data=gdf_zh[gdf_zh['intensity']==45]['geometry'], style_function=lambda x: style8).add_to(m)\n",
    "folium.GeoJson(data=gdf_zh[gdf_zh['intensity']==50]['geometry'], style_function=lambda x: style9).add_to(m)\n",
    "folium.GeoJson(data=gdf_zh[gdf_zh['intensity']==55]['geometry'], style_function=lambda x: style10).add_to(m)\n",
    "folium.GeoJson(data=gdf_zh[gdf_zh['intensity']==60]['geometry'], style_function=lambda x: style11).add_to(m)\n",
    "m"
   ]
  },
  {
   "cell_type": "code",
   "execution_count": null,
   "id": "5c044f76-4324-4e2a-affe-23b8fee8c125",
   "metadata": {},
   "outputs": [],
   "source": [
    "style1 = {'fillColor': '#003f5c', 'color': '#003f5c'}\n",
    "m = folium.Map(location=[40, -90], zoom_start=5, tiles='CartoDB positron')\n",
    "folium.GeoJson(data=gdf_st[gdf_st['intensity'] == 0.1]['geometry'], style_function=lambda x: style1).add_to(m)\n",
    "folium.GeoJson(data=gdf_st[gdf_st['intensity'] == 0.2]['geometry'], style_function=lambda x: style2).add_to(m)\n",
    "m"
   ]
  },
  {
   "cell_type": "code",
   "execution_count": 24,
   "id": "f1c17097-038d-4d95-aa37-37e8379e71fa",
   "metadata": {},
   "outputs": [
    {
     "data": {
      "text/plain": [
       "263340"
      ]
     },
     "execution_count": 24,
     "metadata": {},
     "output_type": "execute_result"
    }
   ],
   "source": [
    "(33426 - 24648) * 30"
   ]
  },
  {
   "cell_type": "code",
   "execution_count": 26,
   "id": "5da877ad-7080-4571-844f-7692d8b098bf",
   "metadata": {},
   "outputs": [
    {
     "data": {
      "text/plain": [
       "22993158"
      ]
     },
     "execution_count": 26,
     "metadata": {},
     "output_type": "execute_result"
    }
   ],
   "source": [
    "22230818 + 263340 + 1996*250"
   ]
  },
  {
   "cell_type": "code",
   "execution_count": 28,
   "id": "a3103ff2-e9ce-41f2-88a9-a85530f16d2c",
   "metadata": {},
   "outputs": [
    {
     "data": {
      "text/plain": [
       "206.83333333333334"
      ]
     },
     "execution_count": 28,
     "metadata": {},
     "output_type": "execute_result"
    }
   ],
   "source": [
    "(365/12 * 24 * 17) / 60"
   ]
  },
  {
   "cell_type": "code",
   "execution_count": 29,
   "id": "140f45a5-cd4e-4f9f-8fec-176d7d4ca146",
   "metadata": {},
   "outputs": [
    {
     "name": "stdout",
     "output_type": "stream",
     "text": [
      "0:00:00.000010\n"
     ]
    }
   ],
   "source": [
    "import time\n",
    "import datetime\n",
    "\n",
    "start = time.time()"
   ]
  },
  {
   "cell_type": "code",
   "execution_count": 30,
   "id": "25c6d35d-9234-430e-a57d-f6eee5243012",
   "metadata": {},
   "outputs": [
    {
     "name": "stdout",
     "output_type": "stream",
     "text": [
      "0:00:11.910995\n"
     ]
    }
   ],
   "source": [
    "end = time.time()\n",
    "delta = end - start\n",
    "print(datetime.timedelta(seconds=delta))"
   ]
  },
  {
   "cell_type": "code",
   "execution_count": null,
   "id": "01cddcc9-b41b-4723-a7be-bbdb84e9d51f",
   "metadata": {},
   "outputs": [],
   "source": []
  }
 ],
 "metadata": {
  "kernelspec": {
   "display_name": "Python [conda env:miniconda2-holo_torch]",
   "language": "python",
   "name": "conda-env-miniconda2-holo_torch-py"
  },
  "language_info": {
   "codemirror_mode": {
    "name": "ipython",
    "version": 3
   },
   "file_extension": ".py",
   "mimetype": "text/x-python",
   "name": "python",
   "nbconvert_exporter": "python",
   "pygments_lexer": "ipython3",
   "version": "3.6.13"
  }
 },
 "nbformat": 4,
 "nbformat_minor": 5
}
